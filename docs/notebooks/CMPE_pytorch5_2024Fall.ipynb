{
  "cells": [
    {
      "cell_type": "markdown",
      "metadata": {
        "id": "oB4jrJaT-mr3"
      },
      "source": [
        "# Tutorial 5: Neural Network and Pytorch Dataset\n",
        "\n",
        "![Status](https://img.shields.io/static/v1.svg?label=Status&message=Finished&color=green)\n",
        "\n",
        "**Filled notebook:**\n",
        "[![View filled on Github](https://img.shields.io/static/v1.svg?logo=github&label=Repo&message=View%20On%20Github&color=lightgrey)](https://github.com/lkk688/DeepDataMiningLearning/blob/master/docs/notebooks/CMPE_pytorch5_2024Fall.ipynb)\n",
        "[![Open filled In Collab](https://colab.research.google.com/assets/colab-badge.svg)](https://colab.research.google.com/github/lkk688/DeepDataMiningLearning/blob/master/docs/notebooks/CMPE_pytorch5_2024Fall.ipynb)       \n",
        "**Author:** Kaikai Liu"
      ]
    },
    {
      "cell_type": "markdown",
      "metadata": {
        "id": "AHBD6HDpFPfB"
      },
      "source": [
        "## Install Pytorch"
      ]
    },
    {
      "cell_type": "markdown",
      "metadata": {
        "id": "Be7eF0nZ-dw9"
      },
      "source": [
        "Pytorch is already installed in Colab. If you are installing the pytorch in your local machine, follow the tutorials here: from https://pytorch.org/get-started/locally/. You can check our pytorch installation tutorials for Mac/Windows/Linux/HPC here: https://deepdatamininglearning.readthedocs.io/"
      ]
    },
    {
      "cell_type": "markdown",
      "metadata": {
        "id": "2lUmdFDa-zHE"
      },
      "source": [
        "Click \"Connect\" to connect to a Colab VM instance. In Runtime->Change Runtime type to select CPU/TPU/GPU."
      ]
    },
    {
      "cell_type": "code",
      "execution_count": null,
      "metadata": {
        "colab": {
          "base_uri": "https://localhost:8080/"
        },
        "id": "1vyDuiPkFTd5",
        "outputId": "07ebbb56-7991-4079-95e0-a35f3f499ee9"
      },
      "outputs": [
        {
          "name": "stdout",
          "output_type": "stream",
          "text": [
            "Requirement already satisfied: torch in /usr/local/lib/python3.10/dist-packages (2.1.0+cu121)\n",
            "Requirement already satisfied: torchvision in /usr/local/lib/python3.10/dist-packages (0.16.0+cu121)\n",
            "Requirement already satisfied: filelock in /usr/local/lib/python3.10/dist-packages (from torch) (3.13.1)\n",
            "Requirement already satisfied: typing-extensions in /usr/local/lib/python3.10/dist-packages (from torch) (4.5.0)\n",
            "Requirement already satisfied: sympy in /usr/local/lib/python3.10/dist-packages (from torch) (1.12)\n",
            "Requirement already satisfied: networkx in /usr/local/lib/python3.10/dist-packages (from torch) (3.2.1)\n",
            "Requirement already satisfied: jinja2 in /usr/local/lib/python3.10/dist-packages (from torch) (3.1.3)\n",
            "Requirement already satisfied: fsspec in /usr/local/lib/python3.10/dist-packages (from torch) (2023.6.0)\n",
            "Requirement already satisfied: triton==2.1.0 in /usr/local/lib/python3.10/dist-packages (from torch) (2.1.0)\n",
            "Requirement already satisfied: numpy in /usr/local/lib/python3.10/dist-packages (from torchvision) (1.23.5)\n",
            "Requirement already satisfied: requests in /usr/local/lib/python3.10/dist-packages (from torchvision) (2.31.0)\n",
            "Requirement already satisfied: pillow!=8.3.*,>=5.3.0 in /usr/local/lib/python3.10/dist-packages (from torchvision) (9.4.0)\n",
            "Requirement already satisfied: MarkupSafe>=2.0 in /usr/local/lib/python3.10/dist-packages (from jinja2->torch) (2.1.4)\n",
            "Requirement already satisfied: charset-normalizer<4,>=2 in /usr/local/lib/python3.10/dist-packages (from requests->torchvision) (3.3.2)\n",
            "Requirement already satisfied: idna<4,>=2.5 in /usr/local/lib/python3.10/dist-packages (from requests->torchvision) (3.6)\n",
            "Requirement already satisfied: urllib3<3,>=1.21.1 in /usr/local/lib/python3.10/dist-packages (from requests->torchvision) (2.0.7)\n",
            "Requirement already satisfied: certifi>=2017.4.17 in /usr/local/lib/python3.10/dist-packages (from requests->torchvision) (2023.11.17)\n",
            "Requirement already satisfied: mpmath>=0.19 in /usr/local/lib/python3.10/dist-packages (from sympy->torch) (1.3.0)\n"
          ]
        }
      ],
      "source": [
        "!pip3 install torch torchvision"
      ]
    },
    {
      "cell_type": "markdown",
      "metadata": {
        "id": "8TRnM7K8mGZa"
      },
      "source": [
        "If the installed version of PyTorch is lower than required, uninstall it and reinstall again by running the following commands:\n",
        "\n",
        "!pip3 uninstall --yes torch torchaudio torchvision torchtext torchdata\n",
        "!pip3 install torch torchaudio torchvision torchtext torchdata"
      ]
    },
    {
      "cell_type": "markdown",
      "metadata": {
        "id": "ogRnp8eU_kFv"
      },
      "source": [
        "## Check PyTorch Environment\n",
        "\n",
        "Pytorch is very similar to the `numpy` package. Let's start with importing PyTorch. The package is called `torch`, based on its original framework [Torch](http://torch.ch/). As a first step, we can check its version:"
      ]
    },
    {
      "cell_type": "code",
      "execution_count": null,
      "metadata": {
        "colab": {
          "base_uri": "https://localhost:8080/"
        },
        "id": "47lGOtCC_pCH",
        "outputId": "0fb79f73-82a3-4bc2-c1d5-c15b2553823c"
      },
      "outputs": [
        {
          "name": "stdout",
          "output_type": "stream",
          "text": [
            "Python 3.10.12\n"
          ]
        }
      ],
      "source": [
        "!python -V"
      ]
    },
    {
      "cell_type": "code",
      "execution_count": null,
      "metadata": {
        "colab": {
          "base_uri": "https://localhost:8080/"
        },
        "id": "_XCVSzRy_qN2",
        "outputId": "7ff7e56a-3521-454e-dce6-8b14a910195a"
      },
      "outputs": [
        {
          "name": "stdout",
          "output_type": "stream",
          "text": [
            "Sat Aug 10 20:33:13 2024       \n",
            "+---------------------------------------------------------------------------------------+\n",
            "| NVIDIA-SMI 535.104.05             Driver Version: 535.104.05   CUDA Version: 12.2     |\n",
            "|-----------------------------------------+----------------------+----------------------+\n",
            "| GPU  Name                 Persistence-M | Bus-Id        Disp.A | Volatile Uncorr. ECC |\n",
            "| Fan  Temp   Perf          Pwr:Usage/Cap |         Memory-Usage | GPU-Util  Compute M. |\n",
            "|                                         |                      |               MIG M. |\n",
            "|=========================================+======================+======================|\n",
            "|   0  Tesla T4                       Off | 00000000:00:04.0 Off |                    0 |\n",
            "| N/A   51C    P8              12W /  70W |      0MiB / 15360MiB |      0%      Default |\n",
            "|                                         |                      |                  N/A |\n",
            "+-----------------------------------------+----------------------+----------------------+\n",
            "                                                                                         \n",
            "+---------------------------------------------------------------------------------------+\n",
            "| Processes:                                                                            |\n",
            "|  GPU   GI   CI        PID   Type   Process name                            GPU Memory |\n",
            "|        ID   ID                                                             Usage      |\n",
            "|=======================================================================================|\n",
            "|  No running processes found                                                           |\n",
            "+---------------------------------------------------------------------------------------+\n"
          ]
        }
      ],
      "source": [
        "!nvidia-smi #check GPU"
      ]
    },
    {
      "cell_type": "code",
      "execution_count": null,
      "metadata": {
        "colab": {
          "base_uri": "https://localhost:8080/"
        },
        "id": "85fSPXNq_xwC",
        "outputId": "c4716d6d-799d-44c5-abb4-8d00397d7495"
      },
      "outputs": [
        {
          "name": "stdout",
          "output_type": "stream",
          "text": [
            "Using torch 2.3.1+cu121\n"
          ]
        }
      ],
      "source": [
        "import torch\n",
        "print(\"Using torch\", torch.__version__)"
      ]
    },
    {
      "cell_type": "code",
      "execution_count": null,
      "metadata": {
        "colab": {
          "base_uri": "https://localhost:8080/"
        },
        "id": "f4cdmbms_3bm",
        "outputId": "229dd9ea-0122-48ac-ed21-6c682b573739"
      },
      "outputs": [
        {
          "name": "stdout",
          "output_type": "stream",
          "text": [
            "tensor([[0.6778, 0.7837, 0.6664],\n",
            "        [0.6301, 0.9998, 0.7409],\n",
            "        [0.5495, 0.5978, 0.6948],\n",
            "        [0.2877, 0.6407, 0.9320],\n",
            "        [0.7372, 0.6757, 0.0932]])\n"
          ]
        }
      ],
      "source": [
        "x = torch.rand(5, 3)\n",
        "print(x)"
      ]
    },
    {
      "cell_type": "code",
      "execution_count": null,
      "metadata": {
        "colab": {
          "base_uri": "https://localhost:8080/"
        },
        "id": "4LCTuzlb_5ed",
        "outputId": "fa13a069-65b0-4db7-c5fc-d4ca124c2184"
      },
      "outputs": [
        {
          "name": "stdout",
          "output_type": "stream",
          "text": [
            "0.18.1+cu121\n"
          ]
        }
      ],
      "source": [
        "import torchvision\n",
        "print(torchvision.__version__)"
      ]
    },
    {
      "cell_type": "code",
      "execution_count": null,
      "metadata": {
        "id": "n2x-qnCK_OdY"
      },
      "outputs": [],
      "source": [
        "if torch.cuda.is_available():\n",
        "    device = torch.device('cuda')  # CUDA GPU\n",
        "elif torch.backends.mps.is_available():\n",
        "    device = torch.device('mps') #Apple GPU\n",
        "else:\n",
        "    device = torch.device(\"cpu\")"
      ]
    },
    {
      "cell_type": "code",
      "execution_count": null,
      "metadata": {
        "colab": {
          "base_uri": "https://localhost:8080/"
        },
        "id": "LceVUVNYACu5",
        "outputId": "4e72b56b-1429-4e9c-fd68-30fb1bc2aaf5"
      },
      "outputs": [
        {
          "name": "stdout",
          "output_type": "stream",
          "text": [
            "Using device: cuda\n",
            "Device name:  Tesla T4\n",
            "Device properties: _CudaDeviceProperties(name='Tesla T4', major=7, minor=5, total_memory=15102MB, multi_processor_count=40)\n",
            "Memory Usage:\n",
            "Allocated: 0.0 GB\n",
            "Cached:    0.0 GB\n"
          ]
        }
      ],
      "source": [
        "print('Using device:', device)\n",
        "#Additional Info when using cuda\n",
        "if device.type == 'cuda':\n",
        "    print(\"Device name: \", torch.cuda.get_device_name(0))\n",
        "    print(\"Device properties:\", torch.cuda.get_device_properties(0))\n",
        "    print('Memory Usage:')\n",
        "    print('Allocated:', round(torch.cuda.memory_allocated(0)/1024**3,1), 'GB')\n",
        "    print('Cached:   ', round(torch.cuda.memory_reserved(0)/1024**3,1), 'GB')"
      ]
    },
    {
      "cell_type": "code",
      "execution_count": null,
      "metadata": {
        "colab": {
          "base_uri": "https://localhost:8080/"
        },
        "id": "FVEeWwCUAGKj",
        "outputId": "17035988-5e95-4455-ba14-bcce77676d78"
      },
      "outputs": [
        {
          "data": {
            "text/plain": [
              "1"
            ]
          },
          "execution_count": 13,
          "metadata": {},
          "output_type": "execute_result"
        }
      ],
      "source": [
        "torch.cuda.device_count()"
      ]
    },
    {
      "cell_type": "code",
      "execution_count": null,
      "metadata": {
        "colab": {
          "base_uri": "https://localhost:8080/",
          "height": 35
        },
        "id": "VZPb2lftAIfb",
        "outputId": "fc211b0e-4ac6-48aa-bac8-f6cc5dd79820"
      },
      "outputs": [
        {
          "data": {
            "application/vnd.google.colaboratory.intrinsic+json": {
              "type": "string"
            },
            "text/plain": [
              "'12.1'"
            ]
          },
          "execution_count": 14,
          "metadata": {},
          "output_type": "execute_result"
        }
      ],
      "source": [
        "torch.version.cuda"
      ]
    },
    {
      "cell_type": "code",
      "execution_count": null,
      "metadata": {
        "colab": {
          "base_uri": "https://localhost:8080/"
        },
        "id": "4y3VuCzxALrE",
        "outputId": "d3f376de-5f0b-4fe7-aa49-b4d77b407930"
      },
      "outputs": [
        {
          "name": "stdout",
          "output_type": "stream",
          "text": [
            "nvcc: NVIDIA (R) Cuda compiler driver\n",
            "Copyright (c) 2005-2023 NVIDIA Corporation\n",
            "Built on Tue_Aug_15_22:02:13_PDT_2023\n",
            "Cuda compilation tools, release 12.2, V12.2.140\n",
            "Build cuda_12.2.r12.2/compiler.33191640_0\n"
          ]
        }
      ],
      "source": [
        "!nvcc -V"
      ]
    },
    {
      "cell_type": "code",
      "execution_count": null,
      "metadata": {
        "colab": {
          "base_uri": "https://localhost:8080/"
        },
        "id": "WDna707VAOes",
        "outputId": "2673d42e-a28e-4fb1-a924-fe1f2b060273"
      },
      "outputs": [
        {
          "data": {
            "text/plain": [
              "8906"
            ]
          },
          "execution_count": 16,
          "metadata": {},
          "output_type": "execute_result"
        }
      ],
      "source": [
        "torch.backends.cudnn.version()"
      ]
    },
    {
      "cell_type": "code",
      "execution_count": null,
      "metadata": {
        "colab": {
          "base_uri": "https://localhost:8080/"
        },
        "id": "ybCKHxPzARMn",
        "outputId": "f097d31a-5720-4ba3-96b7-a14cc31328aa"
      },
      "outputs": [
        {
          "name": "stdout",
          "output_type": "stream",
          "text": [
            "/usr/lib64-nvidia\n"
          ]
        }
      ],
      "source": [
        "!echo $LD_LIBRARY_PATH"
      ]
    },
    {
      "cell_type": "markdown",
      "metadata": {
        "id": "TfITcdKBAVYV"
      },
      "source": [
        "As in every machine learning framework, PyTorch provides functions that are stochastic like generating random numbers. However, a very good practice is to setup your code to be reproducible with the exact same random numbers. This is why we set a seed below."
      ]
    },
    {
      "cell_type": "code",
      "execution_count": null,
      "metadata": {
        "colab": {
          "base_uri": "https://localhost:8080/"
        },
        "id": "HsNtDPlbAUZM",
        "outputId": "d15dd192-f4eb-48b3-ba61-80dfbf037f30"
      },
      "outputs": [
        {
          "data": {
            "text/plain": [
              "<torch._C.Generator at 0x78f127be8130>"
            ]
          },
          "execution_count": 18,
          "metadata": {},
          "output_type": "execute_result"
        }
      ],
      "source": [
        "torch.manual_seed(42) # Setting the seed"
      ]
    },
    {
      "cell_type": "markdown",
      "metadata": {
        "id": "ImtLfsKAAdiS"
      },
      "source": [
        "## Load Google Drive Folder for Colab"
      ]
    },
    {
      "cell_type": "markdown",
      "metadata": {
        "id": "H26cKIjkmWNd"
      },
      "source": [
        "In Colab, add the following to load google drive folder"
      ]
    },
    {
      "cell_type": "code",
      "execution_count": null,
      "metadata": {
        "id": "PoKlV9Y4maYR"
      },
      "outputs": [],
      "source": [
        "from google.colab import drive\n",
        "drive.mount('/content/gdrive')"
      ]
    },
    {
      "cell_type": "code",
      "execution_count": null,
      "metadata": {
        "id": "WiI7HRwjmc1J"
      },
      "outputs": [],
      "source": [
        "import os\n",
        "filename = os.path.join(\"/content/gdrive/My Drive/data\", filename)"
      ]
    },
    {
      "cell_type": "markdown",
      "metadata": {
        "id": "6PQi_El2m_ke"
      },
      "source": [
        "Check the following tutorial regarding the external data for Colab: https://colab.research.google.com/notebooks/io.ipynb#scrollTo=XDg9OBaYqRMd"
      ]
    },
    {
      "cell_type": "markdown",
      "metadata": {
        "id": "LMGC0lkUtpOH"
      },
      "source": [
        "## Working with Pytorch FashionMNIST Data\n",
        "\n",
        "ref: https://pytorch.org/tutorials/beginner/basics/quickstart_tutorial.html"
      ]
    },
    {
      "cell_type": "markdown",
      "metadata": {
        "id": "OwOFV8XxvllJ"
      },
      "source": [
        "PyTorch has two [primitives to work with\n",
        "data](https://pytorch.org/docs/stable/data.html):\n",
        "`torch.utils.data.DataLoader` and `torch.utils.data.Dataset`. `Dataset`\n",
        "stores the samples and their corresponding labels, and `DataLoader`\n",
        "wraps an iterable around the `Dataset`."
      ]
    },
    {
      "cell_type": "markdown",
      "metadata": {
        "id": "_W_YWSDEvph_"
      },
      "source": [
        "PyTorch offers domain-specific libraries such as\n",
        "[TorchText](https://pytorch.org/text/stable/index.html),\n",
        "[TorchVision](https://pytorch.org/vision/stable/index.html), and\n",
        "[TorchAudio](https://pytorch.org/audio/stable/index.html), all of which\n",
        "include datasets. For this tutorial, we will be using a TorchVision\n",
        "dataset.\n",
        "\n",
        "The `torchvision.datasets` module contains `Dataset` objects for many\n",
        "real-world vision data like CIFAR, COCO ([full list\n",
        "here](https://pytorch.org/vision/stable/datasets.html))."
      ]
    },
    {
      "cell_type": "code",
      "execution_count": null,
      "metadata": {
        "id": "E-gz8Drrvr6w"
      },
      "outputs": [],
      "source": [
        "import torch\n",
        "from torch import nn\n",
        "from torch.utils.data import DataLoader\n",
        "from torchvision import datasets\n",
        "from torchvision.transforms import ToTensor"
      ]
    },
    {
      "cell_type": "markdown",
      "metadata": {
        "id": "0kYwROaAxgAV"
      },
      "source": [
        "### FashionMNIST"
      ]
    },
    {
      "cell_type": "markdown",
      "metadata": {
        "id": "nkWJZtfOvxg2"
      },
      "source": [
        "In this\n",
        "tutorial, we use the FashionMNIST dataset. Every TorchVision `Dataset`\n",
        "includes two arguments: `transform` and `target_transform` to modify the\n",
        "samples and labels respectively."
      ]
    },
    {
      "cell_type": "code",
      "execution_count": null,
      "metadata": {
        "colab": {
          "base_uri": "https://localhost:8080/"
        },
        "id": "wYmYsgfavvHw",
        "outputId": "345ae37d-a6ca-4309-817c-69559bf952ae"
      },
      "outputs": [
        {
          "name": "stdout",
          "output_type": "stream",
          "text": [
            "Downloading http://fashion-mnist.s3-website.eu-central-1.amazonaws.com/train-images-idx3-ubyte.gz\n",
            "Downloading http://fashion-mnist.s3-website.eu-central-1.amazonaws.com/train-images-idx3-ubyte.gz to data/FashionMNIST/raw/train-images-idx3-ubyte.gz\n"
          ]
        },
        {
          "name": "stderr",
          "output_type": "stream",
          "text": [
            "100%|██████████| 26421880/26421880 [00:06<00:00, 4001362.11it/s]\n"
          ]
        },
        {
          "name": "stdout",
          "output_type": "stream",
          "text": [
            "Extracting data/FashionMNIST/raw/train-images-idx3-ubyte.gz to data/FashionMNIST/raw\n",
            "\n",
            "Downloading http://fashion-mnist.s3-website.eu-central-1.amazonaws.com/train-labels-idx1-ubyte.gz\n",
            "Downloading http://fashion-mnist.s3-website.eu-central-1.amazonaws.com/train-labels-idx1-ubyte.gz to data/FashionMNIST/raw/train-labels-idx1-ubyte.gz\n"
          ]
        },
        {
          "name": "stderr",
          "output_type": "stream",
          "text": [
            "100%|██████████| 29515/29515 [00:00<00:00, 216526.07it/s]\n"
          ]
        },
        {
          "name": "stdout",
          "output_type": "stream",
          "text": [
            "Extracting data/FashionMNIST/raw/train-labels-idx1-ubyte.gz to data/FashionMNIST/raw\n",
            "\n",
            "Downloading http://fashion-mnist.s3-website.eu-central-1.amazonaws.com/t10k-images-idx3-ubyte.gz\n",
            "Downloading http://fashion-mnist.s3-website.eu-central-1.amazonaws.com/t10k-images-idx3-ubyte.gz to data/FashionMNIST/raw/t10k-images-idx3-ubyte.gz\n"
          ]
        },
        {
          "name": "stderr",
          "output_type": "stream",
          "text": [
            "100%|██████████| 4422102/4422102 [00:01<00:00, 3988568.26it/s]\n"
          ]
        },
        {
          "name": "stdout",
          "output_type": "stream",
          "text": [
            "Extracting data/FashionMNIST/raw/t10k-images-idx3-ubyte.gz to data/FashionMNIST/raw\n",
            "\n",
            "Downloading http://fashion-mnist.s3-website.eu-central-1.amazonaws.com/t10k-labels-idx1-ubyte.gz\n",
            "Downloading http://fashion-mnist.s3-website.eu-central-1.amazonaws.com/t10k-labels-idx1-ubyte.gz to data/FashionMNIST/raw/t10k-labels-idx1-ubyte.gz\n"
          ]
        },
        {
          "name": "stderr",
          "output_type": "stream",
          "text": [
            "100%|██████████| 5148/5148 [00:00<00:00, 20312584.19it/s]"
          ]
        },
        {
          "name": "stdout",
          "output_type": "stream",
          "text": [
            "Extracting data/FashionMNIST/raw/t10k-labels-idx1-ubyte.gz to data/FashionMNIST/raw\n",
            "\n"
          ]
        },
        {
          "name": "stderr",
          "output_type": "stream",
          "text": [
            "\n"
          ]
        }
      ],
      "source": [
        "# Download training data from open datasets.\n",
        "training_data = datasets.FashionMNIST(\n",
        "    root=\"data\",\n",
        "    train=True,\n",
        "    download=True,\n",
        "    transform=ToTensor(),\n",
        ")\n",
        "\n",
        "# Download test data from open datasets.\n",
        "test_data = datasets.FashionMNIST(\n",
        "    root=\"data\",\n",
        "    train=False,\n",
        "    download=True,\n",
        "    transform=ToTensor(),\n",
        ")"
      ]
    },
    {
      "cell_type": "markdown",
      "metadata": {
        "id": "vKoekDzHxpL1"
      },
      "source": [
        "All TorchVision datasets have two parameters -transform to modify the features and target_transform to modify the labels - that accept callables containing the transformation logic. The torchvision.transforms module offers several commonly-used transforms out of the box."
      ]
    },
    {
      "cell_type": "markdown",
      "metadata": {
        "id": "wWSmkV3lx1dI"
      },
      "source": [
        "The FashionMNIST features are in PIL Image format, and the labels are integers."
      ]
    },
    {
      "cell_type": "markdown",
      "metadata": {
        "id": "uzqeVdCkx4P9"
      },
      "source": [
        "ToTensor converts a PIL image or NumPy ndarray into a FloatTensor. and scales the image’s pixel intensity values in the range [0., 1.]. The default option target_transform=None"
      ]
    },
    {
      "cell_type": "markdown",
      "metadata": {
        "id": "AmL4n5kBBB4_"
      },
      "source": [
        "The number of images for each category in the training set and the testing set is 6,000 and 1,000, respectively. Since there are 10 categories, the numbers of examples in the training set and the test set are 60,000 and 10,000, respectively."
      ]
    },
    {
      "cell_type": "code",
      "execution_count": null,
      "metadata": {
        "colab": {
          "base_uri": "https://localhost:8080/"
        },
        "id": "YltpoILuA5kO",
        "outputId": "48f1f2c6-d05f-4fb3-f6f7-0a9410d2b142"
      },
      "outputs": [
        {
          "data": {
            "text/plain": [
              "(60000, 10000)"
            ]
          },
          "execution_count": 4,
          "metadata": {},
          "output_type": "execute_result"
        }
      ],
      "source": [
        "len(training_data), len(test_data)"
      ]
    },
    {
      "cell_type": "markdown",
      "metadata": {
        "id": "8fMo0SQNBEmp"
      },
      "source": [
        "We can access any example by indexing into the dataset using square brackets []. In the following code, we access the image and label corresponding to the first example."
      ]
    },
    {
      "cell_type": "code",
      "execution_count": null,
      "metadata": {
        "id": "tALSSfyGBIHH"
      },
      "outputs": [],
      "source": [
        "feature, label = training_data[0]"
      ]
    },
    {
      "cell_type": "markdown",
      "metadata": {
        "id": "9cr1oNhDBPwr"
      },
      "source": [
        "the variable feature corresponds to an image with a height and width of 28 pixels. PyTorch automatically scales it into a tensor with each pixel value between 0 and 1. It is stored in a 3D Tensor. Its first dimension is the number of channels. Since the data set is a grayscale image, the number of channels is 1. When we encounter color, images, we'll have 3 channels for red, green, and blue. To keep things simple, we will record the shape of the image with the height and width of and h and w pixels, respectively, as hxw\n",
        " or (h, w)."
      ]
    },
    {
      "cell_type": "code",
      "execution_count": null,
      "metadata": {
        "colab": {
          "base_uri": "https://localhost:8080/"
        },
        "id": "MJh1XdW7BdmA",
        "outputId": "7becc2b5-04f4-43b6-f0c9-6be16da5eeb2"
      },
      "outputs": [
        {
          "data": {
            "text/plain": [
              "(torch.Size([1, 28, 28]), torch.float32)"
            ]
          },
          "execution_count": 6,
          "metadata": {},
          "output_type": "execute_result"
        }
      ],
      "source": [
        "feature.shape, feature.dtype"
      ]
    },
    {
      "cell_type": "markdown",
      "metadata": {
        "id": "JqQsFAf_Bgpl"
      },
      "source": [
        "The label of each image is represented as a scalar in PyTorch. Its type is a 64-bit integer."
      ]
    },
    {
      "cell_type": "code",
      "execution_count": null,
      "metadata": {
        "colab": {
          "base_uri": "https://localhost:8080/"
        },
        "id": "1Nw5987nBiPI",
        "outputId": "51a084ab-b8bf-4a1d-820e-37bcfdd0e069"
      },
      "outputs": [
        {
          "data": {
            "text/plain": [
              "(9, int)"
            ]
          },
          "execution_count": 8,
          "metadata": {},
          "output_type": "execute_result"
        }
      ],
      "source": [
        "label, type(label)"
      ]
    },
    {
      "cell_type": "markdown",
      "metadata": {
        "id": "go5oDT0WB3Bg"
      },
      "source": [
        "There are 10 categories in Fashion-MNIST: t-shirt, trousers, pullover, dress, coat, sandal, shirt, sneaker, bag and ankle boot. The following function can convert a numeric label into a corresponding text label."
      ]
    },
    {
      "cell_type": "code",
      "execution_count": null,
      "metadata": {
        "id": "Mmbd3ezXB6ht"
      },
      "outputs": [],
      "source": [
        "def get_fashion_mnist_labels(labels):\n",
        "    text_labels = ['t-shirt', 'trouser', 'pullover', 'dress', 'coat',\n",
        "                   'sandal', 'shirt', 'sneaker', 'bag', 'ankle boot']\n",
        "    return [text_labels[int(i)] for i in labels]"
      ]
    },
    {
      "cell_type": "code",
      "execution_count": null,
      "metadata": {
        "id": "oZ-Su2HcCAyu"
      },
      "outputs": [],
      "source": [
        "import matplotlib.pyplot as plt\n",
        "def show_fashion_mnist(images, labels):\n",
        "    _, figs = plt.subplots(1, len(images), figsize=(12, 12))\n",
        "    for f, img, lbl in zip(figs, images, labels):\n",
        "        f.imshow(img.reshape((28, 28)).numpy())\n",
        "        f.set_title(lbl)\n",
        "        f.axes.get_xaxis().set_visible(False)\n",
        "        f.axes.get_yaxis().set_visible(False)"
      ]
    },
    {
      "cell_type": "code",
      "execution_count": null,
      "metadata": {
        "colab": {
          "base_uri": "https://localhost:8080/",
          "height": 138
        },
        "id": "LW-NiNTpCGkP",
        "outputId": "106acbb9-db77-47e6-890a-941a1d0fa7ef"
      },
      "outputs": [
        {
          "data": {
            "image/png": "[encoded data removed]",
            "text/plain": [
              "<Figure size 1200x1200 with 10 Axes>"
            ]
          },
          "metadata": {},
          "output_type": "display_data"
        }
      ],
      "source": [
        "X=[]\n",
        "y=[]\n",
        "for idx, data in enumerate(training_data):\n",
        "    if(idx>=0 and idx<10):\n",
        "        X.append(data[0])\n",
        "        y.append(data[1])\n",
        "    if (idx>=10):\n",
        "        break\n",
        "# X, y = mnist_train[0:9]\n",
        "show_fashion_mnist(X, get_fashion_mnist_labels(y))"
      ]
    },
    {
      "cell_type": "markdown",
      "metadata": {
        "id": "P72EuBJtCV57"
      },
      "source": [
        "### Pytorch DataLoader"
      ]
    },
    {
      "cell_type": "markdown",
      "metadata": {
        "id": "2uTT1wdZv0ZM"
      },
      "source": [
        "We pass the `Dataset` as an argument to `DataLoader`. This wraps an\n",
        "iterable over our dataset, and supports automatic batching, sampling,\n",
        "shuffling and multiprocess data loading. Here we define a batch size of\n",
        "64, i.e. each element in the dataloader iterable will return a batch of\n",
        "64 features and labels.\n"
      ]
    },
    {
      "cell_type": "code",
      "execution_count": null,
      "metadata": {
        "colab": {
          "base_uri": "https://localhost:8080/"
        },
        "id": "2vYRlok5v2wM",
        "outputId": "ce48f1df-cccb-477b-9f5d-8308ac07123b"
      },
      "outputs": [
        {
          "name": "stdout",
          "output_type": "stream",
          "text": [
            "Shape of X [N, C, H, W]: torch.Size([64, 1, 28, 28])\n",
            "Shape of y: torch.Size([64]) torch.int64\n"
          ]
        }
      ],
      "source": [
        "import sys\n",
        "batch_size = 64\n",
        "\n",
        "\n",
        "if sys.platform.startswith('win'):\n",
        "    # set 0 for windows\n",
        "    # 0 means no additional processes are needed to speed up the reading of data\n",
        "    num_workers = 0\n",
        "else:\n",
        "    num_workers = 2\n",
        "\n",
        "# Create data loaders, Option1\n",
        "#train_dataloader = DataLoader(training_data, batch_size=batch_size)\n",
        "#test_dataloader = DataLoader(test_data, batch_size=batch_size)\n",
        "\n",
        "#Option2, add shuffle and num_workers\n",
        "train_dataloader = DataLoader(training_data, batch_size, shuffle=True, num_workers=num_workers)\n",
        "test_dataloader = DataLoader(test_data, batch_size, shuffle=False, num_workers=num_workers)\n",
        "\n",
        "for X, y in test_dataloader:\n",
        "    print(f\"Shape of X [N, C, H, W]: {X.shape}\")\n",
        "    print(f\"Shape of y: {y.shape} {y.dtype}\")\n",
        "    break"
      ]
    },
    {
      "cell_type": "markdown",
      "metadata": {
        "id": "rU5GqgDqDYbg"
      },
      "source": [
        "Check the time it takes to read the training data"
      ]
    },
    {
      "cell_type": "code",
      "execution_count": null,
      "metadata": {
        "colab": {
          "base_uri": "https://localhost:8080/",
          "height": 35
        },
        "id": "_5r7whbNDSWN",
        "outputId": "7d3f90b2-7f92-44ff-d09d-65cc9468e962"
      },
      "outputs": [
        {
          "data": {
            "application/vnd.google.colaboratory.intrinsic+json": {
              "type": "string"
            },
            "text/plain": [
              "'7.53 sec'"
            ]
          },
          "execution_count": 17,
          "metadata": {},
          "output_type": "execute_result"
        }
      ],
      "source": [
        "import time\n",
        "start = time.time()\n",
        "for X, y in train_dataloader:\n",
        "    continue\n",
        "'%.2f sec' % (time.time() - start)"
      ]
    },
    {
      "cell_type": "code",
      "execution_count": null,
      "metadata": {
        "colab": {
          "base_uri": "https://localhost:8080/"
        },
        "id": "PIBiokksHyEs",
        "outputId": "6953491a-5959-42fc-ae9e-38854e5e369f"
      },
      "outputs": [
        {
          "name": "stdout",
          "output_type": "stream",
          "text": [
            "Shape of train_features [N, C, H, W]: torch.Size([64, 1, 28, 28])\n",
            "train_labels shape: torch.Size([64])\n"
          ]
        }
      ],
      "source": [
        "train_features, train_labels = next(iter(train_dataloader))\n",
        "print(f'Shape of train_features [N, C, H, W]: {train_features.shape}')\n",
        "print(f'train_labels shape: {train_labels.shape}')"
      ]
    },
    {
      "cell_type": "code",
      "execution_count": null,
      "metadata": {
        "id": "yrykrlbdIIlO"
      },
      "outputs": [],
      "source": [
        "image = train_features[0].squeeze() #get the first image in the batch, remove channel\n",
        "label = train_labels[0]"
      ]
    },
    {
      "cell_type": "code",
      "execution_count": null,
      "metadata": {
        "colab": {
          "base_uri": "https://localhost:8080/"
        },
        "id": "dI6j-Je2IRAh",
        "outputId": "ad2f7c01-1397-41a4-9a33-f4d11d86ad54"
      },
      "outputs": [
        {
          "data": {
            "text/plain": [
              "tensor(8)"
            ]
          },
          "execution_count": 39,
          "metadata": {},
          "output_type": "execute_result"
        }
      ],
      "source": [
        "label"
      ]
    },
    {
      "cell_type": "code",
      "execution_count": null,
      "metadata": {
        "colab": {
          "base_uri": "https://localhost:8080/"
        },
        "id": "4uf1MvorILJx",
        "outputId": "3eedb548-f218-4965-fd76-d346823f233e"
      },
      "outputs": [
        {
          "data": {
            "text/plain": [
              "torch.Size([28, 28])"
            ]
          },
          "execution_count": 38,
          "metadata": {},
          "output_type": "execute_result"
        }
      ],
      "source": [
        "image.shape"
      ]
    },
    {
      "cell_type": "code",
      "execution_count": null,
      "metadata": {
        "id": "BIC1Q25tIYIe"
      },
      "outputs": [],
      "source": [
        "labels_map={\n",
        "    0: 'T-shirt',\n",
        "    1: 'Trouser',\n",
        "    2: 'Pullover',\n",
        "    3: 'Dress',\n",
        "    4: 'Coat',\n",
        "    5: 'Sandal',\n",
        "    6: 'Shirt',\n",
        "    7: 'Sneaker',\n",
        "    8: 'Bag',\n",
        "    9: 'Ankle Boot',\n",
        "}"
      ]
    },
    {
      "cell_type": "code",
      "execution_count": null,
      "metadata": {
        "colab": {
          "base_uri": "https://localhost:8080/",
          "height": 470
        },
        "id": "qNVTIrb3HhnI",
        "outputId": "582619b4-c013-4ec5-db93-f70355357a2f"
      },
      "outputs": [
        {
          "data": {
            "image/png": "[encoded data removed]",
            "text/plain": [
              "<Figure size 640x480 with 1 Axes>"
            ]
          },
          "metadata": {},
          "output_type": "display_data"
        },
        {
          "name": "stdout",
          "output_type": "stream",
          "text": [
            "Labels batch shape: torch.Size([64])\n"
          ]
        }
      ],
      "source": [
        "plt.title(f\"Label: {label} - {labels_map[label.item()]}\")\n",
        "plt.imshow(image, cmap=\"gray\")\n",
        "plt.show()\n",
        "print(f\"Labels batch shape: {train_labels.size()}\")"
      ]
    },
    {
      "cell_type": "markdown",
      "metadata": {
        "id": "7gqR0EapDqwW"
      },
      "source": [
        "### Neural Network"
      ]
    },
    {
      "cell_type": "markdown",
      "metadata": {
        "id": "f2szCb0vwlj_"
      },
      "source": [
        "To define a neural network in PyTorch, we create a class that inherits\n",
        "from\n",
        "[nn.Module](https://pytorch.org/docs/stable/generated/torch.nn.Module.html).\n",
        "We define the layers of the network in the `__init__` function and\n",
        "specify how data will pass through the network in the `forward`\n",
        "function. To accelerate operations in the neural network, we move it to\n",
        "the GPU or MPS if available."
      ]
    },
    {
      "cell_type": "code",
      "execution_count": null,
      "metadata": {
        "colab": {
          "base_uri": "https://localhost:8080/"
        },
        "id": "O4lDUMAWwp3t",
        "outputId": "e5009137-1d6c-45b6-ffca-cb8d2672cd28"
      },
      "outputs": [
        {
          "name": "stdout",
          "output_type": "stream",
          "text": [
            "Using cuda device\n",
            "NeuralNetwork(\n",
            "  (flatten): Flatten(start_dim=1, end_dim=-1)\n",
            "  (linear_relu_stack): Sequential(\n",
            "    (0): Linear(in_features=784, out_features=512, bias=True)\n",
            "    (1): ReLU()\n",
            "    (2): Linear(in_features=512, out_features=512, bias=True)\n",
            "    (3): ReLU()\n",
            "    (4): Linear(in_features=512, out_features=10, bias=True)\n",
            "  )\n",
            ")\n"
          ]
        }
      ],
      "source": [
        "# Get cpu, gpu or mps device for training.\n",
        "device = (\n",
        "    \"cuda\"\n",
        "    if torch.cuda.is_available()\n",
        "    else \"mps\"\n",
        "    if torch.backends.mps.is_available()\n",
        "    else \"cpu\"\n",
        ")\n",
        "print(f\"Using {device} device\")\n",
        "\n",
        "# Define model\n",
        "class NeuralNetwork(nn.Module):\n",
        "    def __init__(self):\n",
        "        super().__init__()\n",
        "        self.flatten = nn.Flatten()\n",
        "        self.linear_relu_stack = nn.Sequential(\n",
        "            nn.Linear(28*28, 512),\n",
        "            nn.ReLU(),\n",
        "            nn.Linear(512, 512),\n",
        "            nn.ReLU(),\n",
        "            nn.Linear(512, 10)\n",
        "        )\n",
        "\n",
        "    def forward(self, x):\n",
        "        x = self.flatten(x)\n",
        "        logits = self.linear_relu_stack(x)\n",
        "        return logits\n",
        "\n",
        "model = NeuralNetwork().to(device)\n",
        "print(model)"
      ]
    },
    {
      "cell_type": "markdown",
      "metadata": {
        "id": "nkrAVjAQwuIs"
      },
      "source": [
        "To train a model, we need a [loss\n",
        "function](https://pytorch.org/docs/stable/nn.html#loss-functions) and an\n",
        "[optimizer](https://pytorch.org/docs/stable/optim.html).\n"
      ]
    },
    {
      "cell_type": "code",
      "execution_count": null,
      "metadata": {
        "id": "PKWUzD8RwwNx"
      },
      "outputs": [],
      "source": [
        "loss_fn = nn.CrossEntropyLoss()\n",
        "optimizer = torch.optim.SGD(model.parameters(), lr=1e-3)"
      ]
    },
    {
      "cell_type": "markdown",
      "metadata": {
        "id": "6m7STGsKwyaj"
      },
      "source": [
        "In a single training loop, the model makes predictions on the training\n",
        "dataset (fed to it in batches), and backpropagates the prediction error\n",
        "to adjust the model\\'s parameters.\n"
      ]
    },
    {
      "cell_type": "code",
      "execution_count": null,
      "metadata": {
        "id": "w3w3JBbjw1Bn"
      },
      "outputs": [],
      "source": [
        "def train(dataloader, model, loss_fn, optimizer):\n",
        "    size = len(dataloader.dataset)\n",
        "    print(\"Dataset size:\", size)\n",
        "    num_batches = len(dataloader)\n",
        "    print(\"Num batches:\", num_batches)\n",
        "    model.train()\n",
        "    running_loss = 0\n",
        "    for batch, (X, y) in enumerate(dataloader):\n",
        "        X, y = X.to(device), y.to(device)\n",
        "\n",
        "        # Compute prediction error\n",
        "        pred = model(X)\n",
        "        loss = loss_fn(pred, y)\n",
        "\n",
        "        # Backpropagation\n",
        "        loss.backward()\n",
        "        optimizer.step()\n",
        "        optimizer.zero_grad()\n",
        "        running_loss += loss.item()\n",
        "\n",
        "        if batch % 100 == 0:\n",
        "            loss, current = loss.item(), (batch + 1) * len(X)\n",
        "            print(f\"loss: {loss:>7f}  [{current:>5d}/{size:>5d}]\")\n",
        "    running_loss = running_loss / num_batches #average loss for each batch\n",
        "    return running_loss"
      ]
    },
    {
      "cell_type": "markdown",
      "metadata": {
        "id": "ONnHiDj1w0Z1"
      },
      "source": [
        "We also check the model\\'s performance against the test dataset to\n",
        "ensure it is learning.\n"
      ]
    },
    {
      "cell_type": "code",
      "execution_count": null,
      "metadata": {
        "id": "zzMoQAeEw5IN"
      },
      "outputs": [],
      "source": [
        "def test(dataloader, model, loss_fn):\n",
        "    size = len(dataloader.dataset)\n",
        "    num_batches = len(dataloader)\n",
        "    model.eval()\n",
        "    test_loss, correct = 0, 0\n",
        "    with torch.no_grad():\n",
        "        for X, y in dataloader:\n",
        "            X, y = X.to(device), y.to(device)\n",
        "            pred = model(X)\n",
        "            test_loss += loss_fn(pred, y).item()\n",
        "            correct += (pred.argmax(1) == y).type(torch.float).sum().item()\n",
        "    test_loss /= num_batches\n",
        "    correct /= size\n",
        "    print(f\"Test Error: \\n Accuracy: {(100*correct):>0.1f}%, Avg loss: {test_loss:>8f} \\n\")\n",
        "    return test_loss, correct"
      ]
    },
    {
      "cell_type": "markdown",
      "metadata": {
        "id": "c-MQ0bL2w7pm"
      },
      "source": [
        "The training process is conducted over several iterations (*epochs*).\n",
        "During each epoch, the model learns parameters to make better\n",
        "predictions. We print the model\\'s accuracy and loss at each epoch;\n",
        "we\\'d like to see the accuracy increase and the loss decrease with every\n",
        "epoch.\n"
      ]
    },
    {
      "cell_type": "code",
      "execution_count": null,
      "metadata": {
        "colab": {
          "base_uri": "https://localhost:8080/"
        },
        "id": "tE5mD5pZw9SE",
        "outputId": "3349a6ca-a9f5-4c13-a4d1-e23d4f3173ce"
      },
      "outputs": [
        {
          "name": "stdout",
          "output_type": "stream",
          "text": [
            "Epoch 1\n",
            "-------------------------------\n",
            "Dataset size: 60000\n",
            "Num batches: 938\n",
            "loss: 2.308764  [   64/60000]\n",
            "loss: 2.292500  [ 6464/60000]\n",
            "loss: 2.273389  [12864/60000]\n",
            "loss: 2.265841  [19264/60000]\n",
            "loss: 2.255290  [25664/60000]\n",
            "loss: 2.237386  [32064/60000]\n",
            "loss: 2.218704  [38464/60000]\n",
            "loss: 2.214656  [44864/60000]\n",
            "loss: 2.168449  [51264/60000]\n",
            "loss: 2.173978  [57664/60000]\n",
            "Test Error: \n",
            " Accuracy: 44.8%, Avg loss: 2.152170 \n",
            "\n",
            "Epoch: 1/5..  Training Loss: 2.235..  Test Loss: 2.152..  Test Accuracy: 0.448\n",
            "Epoch 2\n",
            "-------------------------------\n",
            "Dataset size: 60000\n",
            "Num batches: 938\n",
            "loss: 2.129592  [   64/60000]\n",
            "loss: 2.112511  [ 6464/60000]\n",
            "loss: 2.098142  [12864/60000]\n",
            "loss: 2.089462  [19264/60000]\n",
            "loss: 2.048637  [25664/60000]\n",
            "loss: 2.029439  [32064/60000]\n",
            "loss: 2.016063  [38464/60000]\n",
            "loss: 1.967392  [44864/60000]\n",
            "loss: 1.936635  [51264/60000]\n",
            "loss: 1.887856  [57664/60000]\n",
            "Test Error: \n",
            " Accuracy: 53.1%, Avg loss: 1.867906 \n",
            "\n",
            "Epoch: 2/5..  Training Loss: 2.022..  Test Loss: 1.868..  Test Accuracy: 0.531\n",
            "Epoch 3\n",
            "-------------------------------\n",
            "Dataset size: 60000\n",
            "Num batches: 938\n",
            "loss: 1.845210  [   64/60000]\n",
            "loss: 1.851411  [ 6464/60000]\n",
            "loss: 1.792095  [12864/60000]\n",
            "loss: 1.753242  [19264/60000]\n",
            "loss: 1.762407  [25664/60000]\n",
            "loss: 1.629576  [32064/60000]\n",
            "loss: 1.616838  [38464/60000]\n",
            "loss: 1.607804  [44864/60000]\n",
            "loss: 1.635219  [51264/60000]\n",
            "loss: 1.599711  [57664/60000]\n",
            "Test Error: \n",
            " Accuracy: 63.0%, Avg loss: 1.518766 \n",
            "\n",
            "Epoch: 3/5..  Training Loss: 1.686..  Test Loss: 1.519..  Test Accuracy: 0.630\n",
            "Epoch 4\n",
            "-------------------------------\n",
            "Dataset size: 60000\n",
            "Num batches: 938\n",
            "loss: 1.443306  [   64/60000]\n",
            "loss: 1.485937  [ 6464/60000]\n",
            "loss: 1.504024  [12864/60000]\n",
            "loss: 1.459771  [19264/60000]\n",
            "loss: 1.314199  [25664/60000]\n",
            "loss: 1.376235  [32064/60000]\n",
            "loss: 1.273976  [38464/60000]\n",
            "loss: 1.323866  [44864/60000]\n",
            "loss: 1.264341  [51264/60000]\n",
            "loss: 1.237276  [57664/60000]\n",
            "Test Error: \n",
            " Accuracy: 64.4%, Avg loss: 1.264556 \n",
            "\n",
            "Epoch: 4/5..  Training Loss: 1.377..  Test Loss: 1.265..  Test Accuracy: 0.644\n",
            "Epoch 5\n",
            "-------------------------------\n",
            "Dataset size: 60000\n",
            "Num batches: 938\n",
            "loss: 1.214581  [   64/60000]\n",
            "loss: 1.236814  [ 6464/60000]\n",
            "loss: 1.108565  [12864/60000]\n",
            "loss: 1.291734  [19264/60000]\n",
            "loss: 1.101508  [25664/60000]\n",
            "loss: 1.292777  [32064/60000]\n",
            "loss: 1.142322  [38464/60000]\n",
            "loss: 1.139933  [44864/60000]\n",
            "loss: 1.095672  [51264/60000]\n",
            "loss: 0.976478  [57664/60000]\n",
            "Test Error: \n",
            " Accuracy: 64.8%, Avg loss: 1.098793 \n",
            "\n",
            "Epoch: 5/5..  Training Loss: 1.168..  Test Loss: 1.099..  Test Accuracy: 0.648\n",
            "Done!\n"
          ]
        }
      ],
      "source": [
        "epochs = 5\n",
        "train_losses, test_losses = [], []\n",
        "corrects = []\n",
        "for t in range(epochs):\n",
        "    print(f\"Epoch {t+1}\\n-------------------------------\")\n",
        "    running_loss = train(train_dataloader, model, loss_fn, optimizer)\n",
        "    train_losses.append(running_loss)\n",
        "    test_loss, correct = test(test_dataloader, model, loss_fn)\n",
        "    test_losses.append(test_loss)\n",
        "    corrects.append(correct)\n",
        "    print(\"Epoch: {}/{}.. \".format(t+1, epochs),\n",
        "              \"Training Loss: {:.3f}.. \".format(running_loss),\n",
        "              \"Test Loss: {:.3f}.. \".format(test_loss),\n",
        "              \"Test Accuracy: {:.3f}\".format(correct))\n",
        "print(\"Done!\")"
      ]
    },
    {
      "cell_type": "code",
      "execution_count": null,
      "metadata": {
        "colab": {
          "base_uri": "https://localhost:8080/",
          "height": 448
        },
        "id": "O---z-TbHPIo",
        "outputId": "9ac28ea4-44cc-4fe3-9dc4-ab5ab9e36531"
      },
      "outputs": [
        {
          "data": {
            "text/plain": [
              "<matplotlib.legend.Legend at 0x7c390be25b40>"
            ]
          },
          "execution_count": 33,
          "metadata": {},
          "output_type": "execute_result"
        },
        {
          "data": {
            "image/png": "[encoded data removed]",
            "text/plain": [
              "<Figure size 640x480 with 1 Axes>"
            ]
          },
          "metadata": {},
          "output_type": "display_data"
        }
      ],
      "source": [
        "import matplotlib.pyplot as plt\n",
        "plt.plot(train_losses, label='Training loss')\n",
        "plt.plot(test_losses, label='Validation loss')\n",
        "plt.legend(frameon=False)"
      ]
    },
    {
      "cell_type": "markdown",
      "metadata": {
        "id": "njZQBhStw_u4"
      },
      "source": [
        "A common way to save a model is to serialize the internal state\n",
        "dictionary (containing the model parameters)."
      ]
    },
    {
      "cell_type": "code",
      "execution_count": null,
      "metadata": {
        "colab": {
          "base_uri": "https://localhost:8080/"
        },
        "id": "XfPh0k_axBWp",
        "outputId": "244b7ec6-3ee1-401a-bc60-dbaadb22f3bd"
      },
      "outputs": [
        {
          "name": "stdout",
          "output_type": "stream",
          "text": [
            "Saved PyTorch Model State to model.pth\n"
          ]
        }
      ],
      "source": [
        "torch.save(model.state_dict(), \"model.pth\")\n",
        "print(\"Saved PyTorch Model State to model.pth\")"
      ]
    },
    {
      "cell_type": "markdown",
      "metadata": {
        "id": "UGo06F7uxD3t"
      },
      "source": [
        "The process for loading a model includes re-creating the model structure\n",
        "and loading the state dictionary into it."
      ]
    },
    {
      "cell_type": "code",
      "execution_count": null,
      "metadata": {
        "colab": {
          "base_uri": "https://localhost:8080/"
        },
        "id": "kG78XCMbxFgJ",
        "outputId": "54546b69-32a1-4c53-d403-9a1a824575e1"
      },
      "outputs": [
        {
          "data": {
            "text/plain": [
              "<All keys matched successfully>"
            ]
          },
          "execution_count": 25,
          "metadata": {},
          "output_type": "execute_result"
        }
      ],
      "source": [
        "model = NeuralNetwork().to(device)\n",
        "model.load_state_dict(torch.load(\"model.pth\"))"
      ]
    },
    {
      "cell_type": "code",
      "execution_count": null,
      "metadata": {
        "colab": {
          "base_uri": "https://localhost:8080/"
        },
        "id": "plGwf2AKxHqH",
        "outputId": "163125e9-13bb-4ac1-ca4e-3e945b9ebcbc"
      },
      "outputs": [
        {
          "name": "stdout",
          "output_type": "stream",
          "text": [
            "Predicted: \"Ankle boot\", Actual: \"Ankle boot\"\n"
          ]
        }
      ],
      "source": [
        "classes = [\n",
        "    \"T-shirt/top\",\n",
        "    \"Trouser\",\n",
        "    \"Pullover\",\n",
        "    \"Dress\",\n",
        "    \"Coat\",\n",
        "    \"Sandal\",\n",
        "    \"Shirt\",\n",
        "    \"Sneaker\",\n",
        "    \"Bag\",\n",
        "    \"Ankle boot\",\n",
        "]\n",
        "\n",
        "model.eval()\n",
        "x, y = test_data[0][0], test_data[0][1]\n",
        "with torch.no_grad():\n",
        "    x = x.to(device)\n",
        "    pred = model(x)\n",
        "    predicted, actual = classes[pred[0].argmax(0)], classes[y]\n",
        "    print(f'Predicted: \"{predicted}\", Actual: \"{actual}\"')"
      ]
    },
    {
      "cell_type": "markdown",
      "metadata": {
        "id": "xiFNKkeqxTVW"
      },
      "source": [
        "## Loading Custom Data"
      ]
    },
    {
      "cell_type": "code",
      "execution_count": 24,
      "metadata": {
        "id": "MxaIx6ij_IUA"
      },
      "outputs": [],
      "source": [
        "import torch"
      ]
    },
    {
      "cell_type": "code",
      "execution_count": 11,
      "metadata": {
        "colab": {
          "base_uri": "https://localhost:8080/"
        },
        "id": "ZLYzxgsD6mBF",
        "outputId": "e78a0429-56cf-4179-b278-28ef42f4e277"
      },
      "outputs": [
        {
          "name": "stdout",
          "output_type": "stream",
          "text": [
            "Getting Training Images for the fashion MNIST...\n",
            "--2024-08-12 23:28:11--  http://fashion-mnist.s3-website.eu-central-1.amazonaws.com/train-images-idx3-ubyte.gz\n",
            "Resolving fashion-mnist.s3-website.eu-central-1.amazonaws.com (fashion-mnist.s3-website.eu-central-1.amazonaws.com)... 52.219.171.108, 52.219.140.22, 3.5.134.194, ...\n",
            "Connecting to fashion-mnist.s3-website.eu-central-1.amazonaws.com (fashion-mnist.s3-website.eu-central-1.amazonaws.com)|52.219.171.108|:80... connected.\n",
            "HTTP request sent, awaiting response... 200 OK\n",
            "Length: 26421880 (25M) [binary/octet-stream]\n",
            "Saving to: ‘train-images-idx3-ubyte.gz’\n",
            "\n",
            "train-images-idx3-u 100%[===================>]  25.20M  10.4MB/s    in 2.4s    \n",
            "\n",
            "2024-08-12 23:28:13 (10.4 MB/s) - ‘train-images-idx3-ubyte.gz’ saved [26421880/26421880]\n",
            "\n",
            "Training Data Successfully fetched!\n",
            "Getting Training Labels for the fashion MNIST...\n",
            "--2024-08-12 23:28:13--  http://fashion-mnist.s3-website.eu-central-1.amazonaws.com/train-labels-idx1-ubyte.gz\n",
            "Resolving fashion-mnist.s3-website.eu-central-1.amazonaws.com (fashion-mnist.s3-website.eu-central-1.amazonaws.com)... 52.219.171.108, 52.219.140.22, 3.5.134.194, ...\n",
            "Connecting to fashion-mnist.s3-website.eu-central-1.amazonaws.com (fashion-mnist.s3-website.eu-central-1.amazonaws.com)|52.219.171.108|:80... connected.\n",
            "HTTP request sent, awaiting response... 200 OK\n",
            "Length: 29515 (29K) [binary/octet-stream]\n",
            "Saving to: ‘train-labels-idx1-ubyte.gz’\n",
            "\n",
            "train-labels-idx1-u 100%[===================>]  28.82K   166KB/s    in 0.2s    \n",
            "\n",
            "2024-08-12 23:28:14 (166 KB/s) - ‘train-labels-idx1-ubyte.gz’ saved [29515/29515]\n",
            "\n",
            "Training Labels Successfully fetched!\n",
            "Getting Test Images for the fashion MNIST...\n",
            "--2024-08-12 23:28:14--  http://fashion-mnist.s3-website.eu-central-1.amazonaws.com/t10k-images-idx3-ubyte.gz\n",
            "Resolving fashion-mnist.s3-website.eu-central-1.amazonaws.com (fashion-mnist.s3-website.eu-central-1.amazonaws.com)... 52.219.171.108, 52.219.140.22, 3.5.134.194, ...\n",
            "Connecting to fashion-mnist.s3-website.eu-central-1.amazonaws.com (fashion-mnist.s3-website.eu-central-1.amazonaws.com)|52.219.171.108|:80... connected.\n",
            "HTTP request sent, awaiting response... 200 OK\n",
            "Length: 4422102 (4.2M) [binary/octet-stream]\n",
            "Saving to: ‘t10k-images-idx3-ubyte.gz’\n",
            "\n",
            "t10k-images-idx3-ub 100%[===================>]   4.22M  3.04MB/s    in 1.4s    \n",
            "\n",
            "2024-08-12 23:28:16 (3.04 MB/s) - ‘t10k-images-idx3-ubyte.gz’ saved [4422102/4422102]\n",
            "\n",
            "Training Data Successfully fetched!\n",
            "Getting Test Labels for the fashion MNIST...\n",
            "--2024-08-12 23:28:16--  http://fashion-mnist.s3-website.eu-central-1.amazonaws.com/t10k-labels-idx1-ubyte.gz\n",
            "Resolving fashion-mnist.s3-website.eu-central-1.amazonaws.com (fashion-mnist.s3-website.eu-central-1.amazonaws.com)... 52.219.140.156, 3.5.134.218, 52.219.171.208, ...\n",
            "Connecting to fashion-mnist.s3-website.eu-central-1.amazonaws.com (fashion-mnist.s3-website.eu-central-1.amazonaws.com)|52.219.140.156|:80... connected.\n",
            "HTTP request sent, awaiting response... 200 OK\n",
            "Length: 5148 (5.0K) [binary/octet-stream]\n",
            "Saving to: ‘t10k-labels-idx1-ubyte.gz’\n",
            "\n",
            "t10k-labels-idx1-ub 100%[===================>]   5.03K  --.-KB/s    in 0s      \n",
            "\n",
            "2024-08-12 23:28:16 (426 MB/s) - ‘t10k-labels-idx1-ubyte.gz’ saved [5148/5148]\n",
            "\n",
            "Training Data Successfully fetched!\n",
            "Fashion MNIST Dataset Successfully fetched!!\n"
          ]
        },
        {
          "data": {
            "text/plain": []
          },
          "execution_count": 11,
          "metadata": {},
          "output_type": "execute_result"
        }
      ],
      "source": [
        "%%shell\n",
        "echo \"Getting Training Images for the fashion MNIST...\"\n",
        "wget \"http://fashion-mnist.s3-website.eu-central-1.amazonaws.com/train-images-idx3-ubyte.gz\" --no-check-certificate\n",
        "echo \"Training Data Successfully fetched!\"\n",
        "\n",
        "echo \"Getting Training Labels for the fashion MNIST...\"\n",
        "wget \"http://fashion-mnist.s3-website.eu-central-1.amazonaws.com/train-labels-idx1-ubyte.gz\" --no-check-certificate\n",
        "echo \"Training Labels Successfully fetched!\"\n",
        "\n",
        "echo \"Getting Test Images for the fashion MNIST...\"\n",
        "wget \"http://fashion-mnist.s3-website.eu-central-1.amazonaws.com/t10k-images-idx3-ubyte.gz\" --no-check-certificate\n",
        "echo \"Training Data Successfully fetched!\"\n",
        "\n",
        "echo \"Getting Test Labels for the fashion MNIST...\"\n",
        "wget \"http://fashion-mnist.s3-website.eu-central-1.amazonaws.com/t10k-labels-idx1-ubyte.gz\" --no-check-certificate\n",
        "echo \"Training Data Successfully fetched!\"\n",
        "\n",
        "echo \"Fashion MNIST Dataset Successfully fetched!!\""
      ]
    },
    {
      "cell_type": "code",
      "execution_count": 12,
      "metadata": {
        "colab": {
          "base_uri": "https://localhost:8080/"
        },
        "id": "6gXjvr3R6-gX",
        "outputId": "c735edde-a61a-4eaf-cb97-7e0f17d7fecd"
      },
      "outputs": [
        {
          "name": "stdout",
          "output_type": "stream",
          "text": [
            "Starting to unzip the fetched files...\n",
            "Fetched files unzipped successfully!!\n"
          ]
        },
        {
          "data": {
            "text/plain": []
          },
          "execution_count": 12,
          "metadata": {},
          "output_type": "execute_result"
        }
      ],
      "source": [
        "%%shell\n",
        "echo \"Starting to unzip the fetched files...\"\n",
        "gunzip train-images-idx3-ubyte.gz\n",
        "gunzip train-labels-idx1-ubyte.gz\n",
        "gunzip t10k-images-idx3-ubyte.gz\n",
        "gunzip t10k-labels-idx1-ubyte.gz\n",
        "echo \"Fetched files unzipped successfully!!\""
      ]
    },
    {
      "cell_type": "code",
      "execution_count": 14,
      "metadata": {
        "colab": {
          "base_uri": "https://localhost:8080/"
        },
        "id": "NAetsZZ09ibF",
        "outputId": "6827a0c1-8f07-44a7-b1c0-3dc66241c281"
      },
      "outputs": [
        {
          "name": "stdout",
          "output_type": "stream",
          "text": [
            "Collecting idx2numpy\n",
            "  Downloading idx2numpy-1.2.3.tar.gz (6.8 kB)\n",
            "  Preparing metadata (setup.py) ... \u001b[?25l\u001b[?25hdone\n",
            "Requirement already satisfied: numpy in /usr/local/lib/python3.10/dist-packages (from idx2numpy) (1.26.4)\n",
            "Requirement already satisfied: six in /usr/local/lib/python3.10/dist-packages (from idx2numpy) (1.16.0)\n",
            "Building wheels for collected packages: idx2numpy\n",
            "  Building wheel for idx2numpy (setup.py) ... \u001b[?25l\u001b[?25hdone\n",
            "  Created wheel for idx2numpy: filename=idx2numpy-1.2.3-py3-none-any.whl size=7907 sha256=eb37f639a2b6752fb0a717705963e3349f7e6a1fd13613ff421e66ee737041a8\n",
            "  Stored in directory: /root/.cache/pip/wheels/e0/f4/e7/643fc5f932ec2ff92997f43f007660feb23f948aa8486f1107\n",
            "Successfully built idx2numpy\n",
            "Installing collected packages: idx2numpy\n",
            "Successfully installed idx2numpy-1.2.3\n"
          ]
        }
      ],
      "source": [
        "!pip install idx2numpy"
      ]
    },
    {
      "cell_type": "code",
      "execution_count": 15,
      "metadata": {
        "id": "mjK97DFT9YGj"
      },
      "outputs": [],
      "source": [
        "#read everything from the decompressed files as numpy arrays\n",
        "import idx2numpy\n",
        "import numpy as np\n",
        "file = 'train-images-idx3-ubyte'\n",
        "arr = idx2numpy.convert_from_file(file)\n",
        "# arr is now a np.ndarray type of object of shape 60000, 28, 28"
      ]
    },
    {
      "cell_type": "code",
      "execution_count": 16,
      "metadata": {
        "colab": {
          "base_uri": "https://localhost:8080/"
        },
        "id": "rErbViil9m5r",
        "outputId": "e143991f-41a5-44c6-f5f5-27ca1d330ed8"
      },
      "outputs": [
        {
          "data": {
            "text/plain": [
              "(60000, 28, 28)"
            ]
          },
          "execution_count": 16,
          "metadata": {},
          "output_type": "execute_result"
        }
      ],
      "source": [
        "arr.shape"
      ]
    },
    {
      "cell_type": "code",
      "execution_count": 22,
      "metadata": {
        "id": "ak7aF7qB-8Xq"
      },
      "outputs": [],
      "source": [
        "train_imgs = arr"
      ]
    },
    {
      "cell_type": "code",
      "execution_count": 17,
      "metadata": {
        "colab": {
          "base_uri": "https://localhost:8080/",
          "height": 448
        },
        "id": "4jkhGXzW9sBN",
        "outputId": "35606456-5c96-4d37-b1c7-d6a9f31814c4"
      },
      "outputs": [
        {
          "data": {
            "text/plain": [
              "<matplotlib.image.AxesImage at 0x79c00eb0ca60>"
            ]
          },
          "execution_count": 17,
          "metadata": {},
          "output_type": "execute_result"
        },
        {
          "data": {
            "image/png": "[encoded data removed]",
            "text/plain": [
              "<Figure size 640x480 with 1 Axes>"
            ]
          },
          "metadata": {},
          "output_type": "display_data"
        }
      ],
      "source": [
        "import matplotlib.pyplot as plt\n",
        "plt.imshow(arr[0])"
      ]
    },
    {
      "cell_type": "code",
      "execution_count": 18,
      "metadata": {
        "colab": {
          "base_uri": "https://localhost:8080/",
          "height": 448
        },
        "id": "rg6LSz7c92YS",
        "outputId": "00e72793-96d2-4abe-9344-aa013ba692c7"
      },
      "outputs": [
        {
          "data": {
            "text/plain": [
              "<matplotlib.image.AxesImage at 0x79c00c940040>"
            ]
          },
          "execution_count": 18,
          "metadata": {},
          "output_type": "execute_result"
        },
        {
          "data": {
            "image/png": "[encoded data removed]",
            "text/plain": [
              "<Figure size 640x480 with 1 Axes>"
            ]
          },
          "metadata": {},
          "output_type": "display_data"
        }
      ],
      "source": [
        "plt.imshow(arr[0], cmap=plt.cm.binary)"
      ]
    },
    {
      "cell_type": "code",
      "execution_count": 19,
      "metadata": {
        "id": "PdpzK50J-obQ"
      },
      "outputs": [],
      "source": [
        "file = 'train-labels-idx1-ubyte'\n",
        "labels = idx2numpy.convert_from_file(file)"
      ]
    },
    {
      "cell_type": "code",
      "execution_count": 20,
      "metadata": {
        "colab": {
          "base_uri": "https://localhost:8080/"
        },
        "id": "2cqMzHhZ-vgk",
        "outputId": "a1969fb6-5193-44e3-f25a-9af7ff98275f"
      },
      "outputs": [
        {
          "data": {
            "text/plain": [
              "(60000,)"
            ]
          },
          "execution_count": 20,
          "metadata": {},
          "output_type": "execute_result"
        }
      ],
      "source": [
        "labels.shape"
      ]
    },
    {
      "cell_type": "code",
      "execution_count": 21,
      "metadata": {
        "colab": {
          "base_uri": "https://localhost:8080/"
        },
        "id": "93T9zgss-yu4",
        "outputId": "8bd2a9fc-5c20-4b11-ce90-1922f8cc57b9"
      },
      "outputs": [
        {
          "data": {
            "text/plain": [
              "9"
            ]
          },
          "execution_count": 21,
          "metadata": {},
          "output_type": "execute_result"
        }
      ],
      "source": [
        "labels[0]"
      ]
    },
    {
      "cell_type": "code",
      "execution_count": 28,
      "metadata": {
        "colab": {
          "base_uri": "https://localhost:8080/",
          "height": 675
        },
        "id": "QuKv-Q4t-6LN",
        "outputId": "d70f8dd5-6043-4df8-9455-6c016451e96f"
      },
      "outputs": [
        {
          "data": {
            "image/png": "[encoded data removed]",
            "text/plain": [
              "<Figure size 800x800 with 9 Axes>"
            ]
          },
          "metadata": {},
          "output_type": "display_data"
        }
      ],
      "source": [
        "labels_map = {\n",
        "    0: \"T-Shirt\",\n",
        "    1: \"Trouser\",\n",
        "    2: \"Pullover\",\n",
        "    3: \"Dress\",\n",
        "    4: \"Coat\",\n",
        "    5: \"Sandal\",\n",
        "    6: \"Shirt\",\n",
        "    7: \"Sneaker\",\n",
        "    8: \"Bag\",\n",
        "    9: \"Ankle Boot\",\n",
        "}\n",
        "figure = plt.figure(figsize=(8, 8))\n",
        "cols, rows = 3, 3\n",
        "for i in range(1, cols * rows + 1):\n",
        "    sample_idx = torch.randint(len(train_imgs), size=(1,)).item()\n",
        "    img = train_imgs[sample_idx]\n",
        "    label = labels[sample_idx]\n",
        "    figure.add_subplot(rows, cols, i)\n",
        "    plt.title(labels_map[label])\n",
        "    plt.axis(\"off\")\n",
        "    plt.imshow(img.squeeze(), cmap=\"gray\")\n",
        "plt.show()"
      ]
    },
    {
      "cell_type": "markdown",
      "metadata": {},
      "source": [
        "Another option to load the dataset is via this function from https://github.com/zalandoresearch/fashion-mnist/blob/master/utils/mnist_reader.py:"
      ]
    },
    {
      "cell_type": "code",
      "execution_count": null,
      "metadata": {},
      "outputs": [],
      "source": [
        "def load_mnist(path, kind='train'):\n",
        "    import os\n",
        "    import gzip\n",
        "    import numpy as np\n",
        "\n",
        "    \"\"\"Load MNIST data from `path`\"\"\"\n",
        "    labels_path = os.path.join(path,\n",
        "                               '%s-labels-idx1-ubyte.gz'\n",
        "                               % kind)\n",
        "    images_path = os.path.join(path,\n",
        "                               '%s-images-idx3-ubyte.gz'\n",
        "                               % kind)\n",
        "\n",
        "    with gzip.open(labels_path, 'rb') as lbpath:\n",
        "        labels = np.frombuffer(lbpath.read(), dtype=np.uint8,\n",
        "                               offset=8)\n",
        "\n",
        "    with gzip.open(images_path, 'rb') as imgpath:\n",
        "        images = np.frombuffer(imgpath.read(), dtype=np.uint8,\n",
        "                               offset=16).reshape(len(labels), 784)\n",
        "\n",
        "    return images, labels"
      ]
    },
    {
      "cell_type": "markdown",
      "metadata": {
        "id": "5YgjrQHJF_J8"
      },
      "source": [
        "### Create Torch Dataset class"
      ]
    },
    {
      "cell_type": "markdown",
      "metadata": {
        "id": "n_E0XqZFzDS9"
      },
      "source": [
        "``torch.utils.data.Dataset`` is an abstract class representing a dataset.\n",
        "\n",
        "Your custom dataset should inherit ``Dataset`` and override the following methods:\n",
        " -  ``__len__`` so that ``len(dataset)`` returns the size of the dataset.\n",
        " -  ``__getitem__`` to support the indexing such that ``dataset[i]`` can be used to get :math:`i`\\ th sample. This is memory efficient because all the images are not stored in the memory at once but read as required."
      ]
    },
    {
      "cell_type": "code",
      "execution_count": 84,
      "metadata": {
        "id": "mj1LWTDe48qL"
      },
      "outputs": [],
      "source": [
        "import os\n",
        "import pandas as pd\n",
        "from torchvision.io import read_image\n",
        "from torch.utils.data import Dataset\n",
        "from torchvision.transforms import ToTensor\n",
        "\n",
        "class CustomImageDataset(Dataset):\n",
        "    def __init__(self, labels, train_imgs, transform=None, target_transform=None):\n",
        "        self.labels = labels #pd.read_csv(annotations_file)\n",
        "        self.train_imgs = train_imgs\n",
        "        self.transform = transform\n",
        "        self.target_transform = target_transform\n",
        "\n",
        "    def __len__(self):\n",
        "        return len(self.train_imgs)\n",
        "\n",
        "    def __getitem__(self, idx):\n",
        "        image = self.train_imgs[idx]\n",
        "        #image = image[np.newaxis, ...] #add one dimension at the begining\n",
        "        label = self.labels[idx]\n",
        "        label = label.astype(np.int64)\n",
        "        if self.transform:\n",
        "            image = self.transform(image)\n",
        "            #print(image.shape)\n",
        "        if self.target_transform:\n",
        "            label = self.target_transform(label)\n",
        "        return image, label"
      ]
    },
    {
      "cell_type": "markdown",
      "metadata": {
        "id": "LG0dlGPN5O0V"
      },
      "source": [
        "The __getitem__ function loads and returns a sample from the dataset at the given index idx. Based on the index, it identifies the image’s location on disk, converts that to a tensor using read_image, retrieves the corresponding label from the csv data in self.img_labels, calls the transform functions on them (if applicable), and returns the tensor image and corresponding label in a tuple."
      ]
    },
    {
      "cell_type": "code",
      "execution_count": 85,
      "metadata": {
        "id": "wWAXWtpfzelt"
      },
      "outputs": [],
      "source": [
        "custom_dataset = CustomImageDataset(labels, train_imgs, transform=ToTensor())"
      ]
    },
    {
      "cell_type": "code",
      "execution_count": 86,
      "metadata": {
        "id": "rcmeYgx8A0m4"
      },
      "outputs": [],
      "source": [
        "file = 't10k-labels-idx1-ubyte'\n",
        "test_labels = idx2numpy.convert_from_file(file)\n",
        "file = 't10k-images-idx3-ubyte'\n",
        "test_images = idx2numpy.convert_from_file(file)\n",
        "test_data = CustomImageDataset(test_labels, test_images, transform=ToTensor())"
      ]
    },
    {
      "cell_type": "code",
      "execution_count": 87,
      "metadata": {
        "id": "KZJLBTa9ArYY"
      },
      "outputs": [],
      "source": [
        "from torch.utils.data import DataLoader\n",
        "\n",
        "train_dataloader = DataLoader(custom_dataset, batch_size=64, shuffle=True)\n",
        "test_dataloader = DataLoader(test_data, batch_size=64, shuffle=True)"
      ]
    },
    {
      "cell_type": "code",
      "execution_count": 88,
      "metadata": {
        "colab": {
          "base_uri": "https://localhost:8080/"
        },
        "id": "gWWcvLnUE14a",
        "outputId": "5fe712cd-99f5-4ba0-ba76-08dab5dfeb5b"
      },
      "outputs": [
        {
          "name": "stdout",
          "output_type": "stream",
          "text": [
            "Feature batch shape: torch.Size([64, 1, 28, 28])\n",
            "Labels batch shape: torch.Size([64])\n"
          ]
        }
      ],
      "source": [
        "test_features, test_labels = next(iter(test_dataloader))\n",
        "print(f\"Feature batch shape: {test_features.size()}\")\n",
        "print(f\"Labels batch shape: {test_labels.size()}\")"
      ]
    },
    {
      "cell_type": "code",
      "execution_count": 89,
      "metadata": {
        "colab": {
          "base_uri": "https://localhost:8080/",
          "height": 484
        },
        "id": "XqUXJvp5BIdA",
        "outputId": "6e8004f0-9690-4811-fd58-77b3878aa50a"
      },
      "outputs": [
        {
          "name": "stdout",
          "output_type": "stream",
          "text": [
            "Feature batch shape: torch.Size([64, 1, 28, 28])\n",
            "Labels batch shape: torch.Size([64])\n"
          ]
        },
        {
          "data": {
            "image/png": "[encoded data removed]",
            "text/plain": [
              "<Figure size 640x480 with 1 Axes>"
            ]
          },
          "metadata": {},
          "output_type": "display_data"
        },
        {
          "name": "stdout",
          "output_type": "stream",
          "text": [
            "Label: 5\n"
          ]
        }
      ],
      "source": [
        "# Display image and label.\n",
        "train_features, train_labels = next(iter(train_dataloader))\n",
        "print(f\"Feature batch shape: {train_features.size()}\")\n",
        "print(f\"Labels batch shape: {train_labels.size()}\")\n",
        "img = train_features[0].squeeze()\n",
        "label = train_labels[0]\n",
        "plt.imshow(img, cmap=\"gray\")\n",
        "plt.show()\n",
        "print(f\"Label: {label}\")"
      ]
    },
    {
      "cell_type": "code",
      "execution_count": 90,
      "metadata": {
        "colab": {
          "base_uri": "https://localhost:8080/"
        },
        "id": "L7r_c3rkBaKP",
        "outputId": "fc7135ee-6875-40c6-e15c-1be124ea8875"
      },
      "outputs": [
        {
          "name": "stdout",
          "output_type": "stream",
          "text": [
            "Shape of X [N, C, H, W]: torch.Size([64, 1, 28, 28])\n",
            "Type of X [N, C, H, W]: torch.float32\n",
            "Shape of y: torch.Size([64]) torch.int64\n"
          ]
        }
      ],
      "source": [
        "for X, y in test_dataloader:\n",
        "    print(f\"Shape of X [N, C, H, W]: {X.shape}\")\n",
        "    print(f\"Type of X [N, C, H, W]: {X.dtype}\")\n",
        "    print(f\"Shape of y: {y.shape} {y.dtype}\")\n",
        "    break"
      ]
    },
    {
      "cell_type": "code",
      "execution_count": 91,
      "metadata": {
        "colab": {
          "base_uri": "https://localhost:8080/",
          "height": 36
        },
        "id": "KzAbuzh-BkUX",
        "outputId": "180dff22-e4bb-44ea-d36d-047a8249e719"
      },
      "outputs": [
        {
          "data": {
            "application/vnd.google.colaboratory.intrinsic+json": {
              "type": "string"
            },
            "text/plain": [
              "'1.87 sec'"
            ]
          },
          "execution_count": 91,
          "metadata": {},
          "output_type": "execute_result"
        }
      ],
      "source": [
        "import time\n",
        "start = time.time()\n",
        "for X, y in train_dataloader:\n",
        "    continue\n",
        "'%.2f sec' % (time.time() - start)"
      ]
    },
    {
      "cell_type": "markdown",
      "metadata": {
        "id": "bqJ8ZWIWGEEL"
      },
      "source": [
        "### Create Neural Network"
      ]
    },
    {
      "cell_type": "code",
      "execution_count": 92,
      "metadata": {
        "colab": {
          "base_uri": "https://localhost:8080/"
        },
        "id": "P1WbHovjCibI",
        "outputId": "c33346de-5aaa-443a-91be-9ccb6f98e2a8"
      },
      "outputs": [
        {
          "name": "stdout",
          "output_type": "stream",
          "text": [
            "Using cuda device\n",
            "NeuralNetwork(\n",
            "  (flatten): Flatten(start_dim=1, end_dim=-1)\n",
            "  (linear_relu_stack): Sequential(\n",
            "    (0): Linear(in_features=784, out_features=512, bias=True)\n",
            "    (1): ReLU()\n",
            "    (2): Linear(in_features=512, out_features=512, bias=True)\n",
            "    (3): ReLU()\n",
            "    (4): Linear(in_features=512, out_features=10, bias=True)\n",
            "  )\n",
            ")\n"
          ]
        }
      ],
      "source": [
        "from torch import nn\n",
        "\n",
        "# Get cpu, gpu or mps device for training.\n",
        "device = (\n",
        "    \"cuda\"\n",
        "    if torch.cuda.is_available()\n",
        "    else \"mps\"\n",
        "    if torch.backends.mps.is_available()\n",
        "    else \"cpu\"\n",
        ")\n",
        "print(f\"Using {device} device\")\n",
        "\n",
        "# Define model\n",
        "class NeuralNetwork(nn.Module):\n",
        "    def __init__(self):\n",
        "        super().__init__()\n",
        "        self.flatten = nn.Flatten()\n",
        "        self.linear_relu_stack = nn.Sequential(\n",
        "            nn.Linear(28*28, 512),\n",
        "            nn.ReLU(),\n",
        "            nn.Linear(512, 512),\n",
        "            nn.ReLU(),\n",
        "            nn.Linear(512, 10)\n",
        "        )\n",
        "\n",
        "    def forward(self, x):\n",
        "        x = self.flatten(x)\n",
        "        logits = self.linear_relu_stack(x)\n",
        "        return logits\n",
        "\n",
        "model = NeuralNetwork().to(device)\n",
        "print(model)"
      ]
    },
    {
      "cell_type": "code",
      "execution_count": 93,
      "metadata": {
        "id": "OlGSugXGCtWT"
      },
      "outputs": [],
      "source": [
        "loss_fn = nn.CrossEntropyLoss()\n",
        "optimizer = torch.optim.SGD(model.parameters(), lr=1e-3)"
      ]
    },
    {
      "cell_type": "code",
      "execution_count": 94,
      "metadata": {
        "id": "sfmFS6QUCwWr"
      },
      "outputs": [],
      "source": [
        "def train(dataloader, model, loss_fn, optimizer):\n",
        "    size = len(dataloader.dataset)\n",
        "    print(\"Dataset size:\", size)\n",
        "    num_batches = len(dataloader)\n",
        "    print(\"Num batches:\", num_batches)\n",
        "    model.train()\n",
        "    running_loss = 0\n",
        "    for batch, (X, y) in enumerate(dataloader):\n",
        "        X, y = X.to(device), y.to(device)\n",
        "\n",
        "        # Compute prediction error\n",
        "        pred = model(X)\n",
        "        loss = loss_fn(pred, y)\n",
        "\n",
        "        # Backpropagation\n",
        "        loss.backward()\n",
        "        optimizer.step()\n",
        "        optimizer.zero_grad()\n",
        "        running_loss += loss.item()\n",
        "\n",
        "        if batch % 100 == 0:\n",
        "            loss, current = loss.item(), (batch + 1) * len(X)\n",
        "            print(f\"loss: {loss:>7f}  [{current:>5d}/{size:>5d}]\")\n",
        "    running_loss = running_loss / num_batches #average loss for each batch\n",
        "    return running_loss"
      ]
    },
    {
      "cell_type": "code",
      "execution_count": 95,
      "metadata": {
        "id": "7zEsP-zFCzaJ"
      },
      "outputs": [],
      "source": [
        "def test(dataloader, model, loss_fn):\n",
        "    size = len(dataloader.dataset)\n",
        "    num_batches = len(dataloader)\n",
        "    model.eval()\n",
        "    test_loss, correct = 0, 0\n",
        "    with torch.no_grad():\n",
        "        for X, y in dataloader:\n",
        "            X, y = X.to(device), y.to(device)\n",
        "            pred = model(X)\n",
        "            test_loss += loss_fn(pred, y).item()\n",
        "            correct += (pred.argmax(1) == y).type(torch.float).sum().item()\n",
        "    test_loss /= num_batches\n",
        "    correct /= size\n",
        "    print(f\"Test Error: \\n Accuracy: {(100*correct):>0.1f}%, Avg loss: {test_loss:>8f} \\n\")\n",
        "    return test_loss, correct"
      ]
    },
    {
      "cell_type": "code",
      "execution_count": 96,
      "metadata": {
        "colab": {
          "base_uri": "https://localhost:8080/"
        },
        "id": "KEHvpTMtC2Ty",
        "outputId": "3e828231-f2cf-4e06-9d40-a3ecfd0e3101"
      },
      "outputs": [
        {
          "name": "stdout",
          "output_type": "stream",
          "text": [
            "Epoch 1\n",
            "-------------------------------\n",
            "Dataset size: 60000\n",
            "Num batches: 938\n",
            "loss: 2.305256  [   64/60000]\n",
            "loss: 2.280814  [ 6464/60000]\n",
            "loss: 2.266370  [12864/60000]\n",
            "loss: 2.257602  [19264/60000]\n",
            "loss: 2.242462  [25664/60000]\n",
            "loss: 2.221343  [32064/60000]\n",
            "loss: 2.215541  [38464/60000]\n",
            "loss: 2.203532  [44864/60000]\n",
            "loss: 2.171821  [51264/60000]\n",
            "loss: 2.165261  [57664/60000]\n",
            "Test Error: \n",
            " Accuracy: 48.4%, Avg loss: 2.140235 \n",
            "\n",
            "Epoch: 1/5..  Training Loss: 2.227..  Test Loss: 2.140..  Test Accuracy: 0.484\n",
            "Epoch 2\n",
            "-------------------------------\n",
            "Dataset size: 60000\n",
            "Num batches: 938\n",
            "loss: 2.142647  [   64/60000]\n",
            "loss: 2.120055  [ 6464/60000]\n",
            "loss: 2.103783  [12864/60000]\n",
            "loss: 2.058191  [19264/60000]\n",
            "loss: 2.006170  [25664/60000]\n",
            "loss: 2.020446  [32064/60000]\n",
            "loss: 1.980062  [38464/60000]\n",
            "loss: 1.895831  [44864/60000]\n",
            "loss: 1.875453  [51264/60000]\n",
            "loss: 1.831448  [57664/60000]\n",
            "Test Error: \n",
            " Accuracy: 59.4%, Avg loss: 1.842049 \n",
            "\n",
            "Epoch: 2/5..  Training Loss: 2.005..  Test Loss: 1.842..  Test Accuracy: 0.594\n",
            "Epoch 3\n",
            "-------------------------------\n",
            "Dataset size: 60000\n",
            "Num batches: 938\n",
            "loss: 1.818394  [   64/60000]\n",
            "loss: 1.781185  [ 6464/60000]\n",
            "loss: 1.752566  [12864/60000]\n",
            "loss: 1.759190  [19264/60000]\n",
            "loss: 1.703590  [25664/60000]\n",
            "loss: 1.652923  [32064/60000]\n",
            "loss: 1.569123  [38464/60000]\n",
            "loss: 1.498286  [44864/60000]\n",
            "loss: 1.511202  [51264/60000]\n",
            "loss: 1.527408  [57664/60000]\n",
            "Test Error: \n",
            " Accuracy: 60.0%, Avg loss: 1.478632 \n",
            "\n",
            "Epoch: 3/5..  Training Loss: 1.651..  Test Loss: 1.479..  Test Accuracy: 0.600\n",
            "Epoch 4\n",
            "-------------------------------\n",
            "Dataset size: 60000\n",
            "Num batches: 938\n",
            "loss: 1.452095  [   64/60000]\n",
            "loss: 1.476154  [ 6464/60000]\n",
            "loss: 1.547630  [12864/60000]\n",
            "loss: 1.486339  [19264/60000]\n",
            "loss: 1.430515  [25664/60000]\n",
            "loss: 1.212579  [32064/60000]\n",
            "loss: 1.260848  [38464/60000]\n",
            "loss: 1.275609  [44864/60000]\n",
            "loss: 1.363200  [51264/60000]\n",
            "loss: 1.365016  [57664/60000]\n",
            "Test Error: \n",
            " Accuracy: 63.1%, Avg loss: 1.234963 \n",
            "\n",
            "Epoch: 4/5..  Training Loss: 1.341..  Test Loss: 1.235..  Test Accuracy: 0.631\n",
            "Epoch 5\n",
            "-------------------------------\n",
            "Dataset size: 60000\n",
            "Num batches: 938\n",
            "loss: 1.246840  [   64/60000]\n",
            "loss: 1.234575  [ 6464/60000]\n",
            "loss: 1.212738  [12864/60000]\n",
            "loss: 1.114214  [19264/60000]\n",
            "loss: 1.116578  [25664/60000]\n",
            "loss: 1.247512  [32064/60000]\n",
            "loss: 1.206364  [38464/60000]\n",
            "loss: 1.029398  [44864/60000]\n",
            "loss: 1.130813  [51264/60000]\n",
            "loss: 1.079461  [57664/60000]\n",
            "Test Error: \n",
            " Accuracy: 63.7%, Avg loss: 1.081814 \n",
            "\n",
            "Epoch: 5/5..  Training Loss: 1.144..  Test Loss: 1.082..  Test Accuracy: 0.637\n",
            "Done!\n"
          ]
        }
      ],
      "source": [
        "epochs = 5\n",
        "train_losses, test_losses = [], []\n",
        "corrects = []\n",
        "for t in range(epochs):\n",
        "    print(f\"Epoch {t+1}\\n-------------------------------\")\n",
        "    running_loss = train(train_dataloader, model, loss_fn, optimizer)\n",
        "    train_losses.append(running_loss)\n",
        "    test_loss, correct = test(test_dataloader, model, loss_fn)\n",
        "    test_losses.append(test_loss)\n",
        "    corrects.append(correct)\n",
        "    print(\"Epoch: {}/{}.. \".format(t+1, epochs),\n",
        "              \"Training Loss: {:.3f}.. \".format(running_loss),\n",
        "              \"Test Loss: {:.3f}.. \".format(test_loss),\n",
        "              \"Test Accuracy: {:.3f}\".format(correct))\n",
        "print(\"Done!\")"
      ]
    },
    {
      "cell_type": "code",
      "execution_count": 97,
      "metadata": {
        "colab": {
          "base_uri": "https://localhost:8080/",
          "height": 448
        },
        "id": "3aYrZlJ9F29g",
        "outputId": "7503b23c-4dae-46c5-80e8-2197d422964c"
      },
      "outputs": [
        {
          "data": {
            "text/plain": [
              "<matplotlib.legend.Legend at 0x79bf47e8fc70>"
            ]
          },
          "execution_count": 97,
          "metadata": {},
          "output_type": "execute_result"
        },
        {
          "data": {
            "image/png": "[encoded data removed]",
            "text/plain": [
              "<Figure size 640x480 with 1 Axes>"
            ]
          },
          "metadata": {},
          "output_type": "display_data"
        }
      ],
      "source": [
        "import matplotlib.pyplot as plt\n",
        "plt.plot(train_losses, label='Training loss')\n",
        "plt.plot(test_losses, label='Validation loss')\n",
        "plt.legend(frameon=False)"
      ]
    }
  ],
  "metadata": {
    "accelerator": "GPU",
    "colab": {
      "gpuType": "T4",
      "provenance": [],
      "toc_visible": true
    },
    "kernelspec": {
      "display_name": "Python 3",
      "name": "python3"
    }
  },
  "nbformat": 4,
  "nbformat_minor": 0
}
